{
 "cells": [
  {
   "cell_type": "markdown",
   "id": "277f76f8",
   "metadata": {
    "papermill": {
     "duration": 0.005055,
     "end_time": "2024-02-07T01:38:28.389250",
     "exception": false,
     "start_time": "2024-02-07T01:38:28.384195",
     "status": "completed"
    },
    "tags": []
   },
   "source": [
    "# <font size=6>Titanic - A Project Showcase - Part 1</font>\n",
    "## Initial Analysis and Baseline Model\n",
    "  \n",
    "---\n",
    "  \n",
    "<font size=4>Table of contents:</font>  \n",
    "*  [<font size=4>1. Introduction</font>](#int1)  \n",
    "*  [<font size=4>2. Initialization</font>](#int2)  \n",
    "  *  [<font size=4>2.1 Load Dependencies, Packages and Functions</font>](#int2.1)  \n",
    "  *  [<font size=4>2.2 Global Definitions</font>](#int2.2)  \n",
    "  *  [<font size=4>2.3 Load the Data</font>](#int2.3)  \n",
    "*  [<font size=4>3. Preliminary Data Inspection</font>](#int3)  \n",
    "  *  [<font size=4>3.1 Checking the Size and Shape</font>](#int3.1)  \n",
    "*  [<font size=4>4. Acknowledgements</font>](#int4)"
   ]
  },
  {
   "cell_type": "markdown",
   "id": "d3759ca1",
   "metadata": {
    "papermill": {
     "duration": 0.003536,
     "end_time": "2024-02-07T01:38:28.396961",
     "exception": false,
     "start_time": "2024-02-07T01:38:28.393425",
     "status": "completed"
    },
    "tags": []
   },
   "source": [
    "### <a id=\"int1\">1. Introduction</a>"
   ]
  },
  {
   "cell_type": "markdown",
   "id": "a5771657",
   "metadata": {
    "papermill": {
     "duration": 0.003366,
     "end_time": "2024-02-07T01:38:28.404082",
     "exception": false,
     "start_time": "2024-02-07T01:38:28.400716",
     "status": "completed"
    },
    "tags": []
   },
   "source": [
    "### <a id=\"int2\">2. Initialization</a>\n",
    "#### <a id=\"int2.1\">2.1 Load Dependencies, Packages and Functions</a>"
   ]
  },
  {
   "cell_type": "code",
   "execution_count": 1,
   "id": "d61e11b8",
   "metadata": {
    "_cell_guid": "b1076dfc-b9ad-4769-8c92-a6c4dae69d19",
    "_kg_hide-input": true,
    "_uuid": "8f2839f25d086af736a60e9eeb907d3b93b6e0e5",
    "execution": {
     "iopub.execute_input": "2024-02-07T01:38:28.413824Z",
     "iopub.status.busy": "2024-02-07T01:38:28.413295Z",
     "iopub.status.idle": "2024-02-07T01:38:30.983602Z",
     "shell.execute_reply": "2024-02-07T01:38:30.981932Z"
    },
    "papermill": {
     "duration": 2.579122,
     "end_time": "2024-02-07T01:38:30.986877",
     "exception": false,
     "start_time": "2024-02-07T01:38:28.407755",
     "status": "completed"
    },
    "tags": []
   },
   "outputs": [],
   "source": [
    "# in alphabetical order\n",
    "import matplotlib.pyplot as plt\n",
    "import numpy as np\n",
    "import os\n",
    "import pandas as pd\n",
    "from pathlib import Path\n",
    "import random\n",
    "import seaborn as sns\n",
    "import sys\n",
    "\n",
    "# importing utility functions for data analysis from script\n",
    "from utilities_analysis import missing_data, most_frequent_values, unique_values, plot_count_pairs, plot_distribution_pairs"
   ]
  },
  {
   "cell_type": "markdown",
   "id": "cb3516d8",
   "metadata": {
    "papermill": {
     "duration": 0.003478,
     "end_time": "2024-02-07T01:38:30.994326",
     "exception": false,
     "start_time": "2024-02-07T01:38:30.990848",
     "status": "completed"
    },
    "tags": []
   },
   "source": [
    "#### <a id=\"int2.2\">2.2 Global Definitions</a>"
   ]
  },
  {
   "cell_type": "code",
   "execution_count": 2,
   "id": "c3b23150",
   "metadata": {
    "execution": {
     "iopub.execute_input": "2024-02-07T01:38:31.004478Z",
     "iopub.status.busy": "2024-02-07T01:38:31.003466Z",
     "iopub.status.idle": "2024-02-07T01:38:31.008962Z",
     "shell.execute_reply": "2024-02-07T01:38:31.007823Z"
    },
    "papermill": {
     "duration": 0.01402,
     "end_time": "2024-02-07T01:38:31.012066",
     "exception": false,
     "start_time": "2024-02-07T01:38:30.998046",
     "status": "completed"
    },
    "tags": []
   },
   "outputs": [],
   "source": [
    "# global definitions\n",
    "sns_colors = \"ocean_r\""
   ]
  },
  {
   "cell_type": "markdown",
   "id": "4e39b3e4",
   "metadata": {
    "papermill": {
     "duration": 0.004443,
     "end_time": "2024-02-07T01:38:31.021914",
     "exception": false,
     "start_time": "2024-02-07T01:38:31.017471",
     "status": "completed"
    },
    "tags": []
   },
   "source": [
    "#### <a id=\"int2.3\">2.3 Load the Data</a>"
   ]
  },
  {
   "cell_type": "code",
   "execution_count": 3,
   "id": "5c6f0528",
   "metadata": {
    "execution": {
     "iopub.execute_input": "2024-02-07T01:38:31.033140Z",
     "iopub.status.busy": "2024-02-07T01:38:31.032615Z",
     "iopub.status.idle": "2024-02-07T01:38:31.074566Z",
     "shell.execute_reply": "2024-02-07T01:38:31.073067Z"
    },
    "papermill": {
     "duration": 0.052025,
     "end_time": "2024-02-07T01:38:31.077960",
     "exception": false,
     "start_time": "2024-02-07T01:38:31.025935",
     "status": "completed"
    },
    "tags": []
   },
   "outputs": [],
   "source": [
    "df_train = pd.read_csv(\"/kaggle/input/titanic/train.csv\")\n",
    "df_test = pd.read_csv(\"/kaggle/input/titanic/test.csv\")"
   ]
  },
  {
   "cell_type": "markdown",
   "id": "34f906c9",
   "metadata": {
    "papermill": {
     "duration": 0.003793,
     "end_time": "2024-02-07T01:38:31.085913",
     "exception": false,
     "start_time": "2024-02-07T01:38:31.082120",
     "status": "completed"
    },
    "tags": []
   },
   "source": [
    "### <a id=\"int3\">3. Preliminary Data Inspection</a>\n",
    "#### <a id=\"int3.1\">3.1 Checking the Size and Shape</a>"
   ]
  },
  {
   "cell_type": "code",
   "execution_count": 4,
   "id": "ae6c8620",
   "metadata": {
    "execution": {
     "iopub.execute_input": "2024-02-07T01:38:31.096597Z",
     "iopub.status.busy": "2024-02-07T01:38:31.096087Z",
     "iopub.status.idle": "2024-02-07T01:38:31.102696Z",
     "shell.execute_reply": "2024-02-07T01:38:31.101439Z"
    },
    "papermill": {
     "duration": 0.01504,
     "end_time": "2024-02-07T01:38:31.105318",
     "exception": false,
     "start_time": "2024-02-07T01:38:31.090278",
     "status": "completed"
    },
    "tags": []
   },
   "outputs": [
    {
     "name": "stdout",
     "output_type": "stream",
     "text": [
      "df_train: (891, 12)\n",
      "df_test: (418, 11)\n"
     ]
    }
   ],
   "source": [
    "print(\"df_train:\", df_train.shape)\n",
    "print(\"df_test:\", df_test.shape)"
   ]
  },
  {
   "cell_type": "code",
   "execution_count": 5,
   "id": "2a92a1e1",
   "metadata": {
    "execution": {
     "iopub.execute_input": "2024-02-07T01:38:31.117262Z",
     "iopub.status.busy": "2024-02-07T01:38:31.116437Z",
     "iopub.status.idle": "2024-02-07T01:38:31.121394Z",
     "shell.execute_reply": "2024-02-07T01:38:31.120384Z"
    },
    "papermill": {
     "duration": 0.013255,
     "end_time": "2024-02-07T01:38:31.123844",
     "exception": false,
     "start_time": "2024-02-07T01:38:31.110589",
     "status": "completed"
    },
    "tags": []
   },
   "outputs": [],
   "source": [
    "#correlations = all_df[all_df.columns].corr(numeric_only=True)"
   ]
  },
  {
   "cell_type": "code",
   "execution_count": 6,
   "id": "3b26e7de",
   "metadata": {
    "execution": {
     "iopub.execute_input": "2024-02-07T01:38:31.134844Z",
     "iopub.status.busy": "2024-02-07T01:38:31.134211Z",
     "iopub.status.idle": "2024-02-07T01:38:31.137998Z",
     "shell.execute_reply": "2024-02-07T01:38:31.137166Z"
    },
    "papermill": {
     "duration": 0.012039,
     "end_time": "2024-02-07T01:38:31.140231",
     "exception": false,
     "start_time": "2024-02-07T01:38:31.128192",
     "status": "completed"
    },
    "tags": []
   },
   "outputs": [],
   "source": [
    "#print(correlations)"
   ]
  },
  {
   "cell_type": "code",
   "execution_count": 7,
   "id": "77789d35",
   "metadata": {
    "execution": {
     "iopub.execute_input": "2024-02-07T01:38:31.151136Z",
     "iopub.status.busy": "2024-02-07T01:38:31.150470Z",
     "iopub.status.idle": "2024-02-07T01:38:31.154269Z",
     "shell.execute_reply": "2024-02-07T01:38:31.153395Z"
    },
    "papermill": {
     "duration": 0.011982,
     "end_time": "2024-02-07T01:38:31.156398",
     "exception": false,
     "start_time": "2024-02-07T01:38:31.144416",
     "status": "completed"
    },
    "tags": []
   },
   "outputs": [],
   "source": [
    "#correlations_abs_sum = correlations[correlations.columns].abs().sum()\n",
    "#print(correlations_abs_sum)commit\n",
    "#print(correlations_abs_sum.nsmallest(5))"
   ]
  },
  {
   "cell_type": "markdown",
   "id": "e51d5e46",
   "metadata": {
    "papermill": {
     "duration": 0.003834,
     "end_time": "2024-02-07T01:38:31.164844",
     "exception": false,
     "start_time": "2024-02-07T01:38:31.161010",
     "status": "completed"
    },
    "tags": []
   },
   "source": [
    "## <a id=\"int4\">4. Acknowledgements</a>  \n",
    "  \n",
    "For this notebook I used code from other notebooks and was inspired by the work of other Kagglers.  \n",
    "  \n",
    "Thank you to:\n",
    "  \n",
    "* [<font size=4>[Gabriel Preda](https://www.kaggle.com/gpreda)</font>](#1)\n",
    "    * [Titanic - start of a journey around data world](https://www.kaggle.com/code/gpreda/titanic-start-of-a-journey-around-data-world)"
   ]
  }
 ],
 "metadata": {
  "kaggle": {
   "accelerator": "none",
   "dataSources": [
    {
     "databundleVersionId": 26502,
     "sourceId": 3136,
     "sourceType": "competition"
    },
    {
     "sourceId": 161946232,
     "sourceType": "kernelVersion"
    }
   ],
   "dockerImageVersionId": 30646,
   "isGpuEnabled": false,
   "isInternetEnabled": true,
   "language": "python",
   "sourceType": "notebook"
  },
  "kernelspec": {
   "display_name": "Python 3",
   "language": "python",
   "name": "python3"
  },
  "language_info": {
   "codemirror_mode": {
    "name": "ipython",
    "version": 3
   },
   "file_extension": ".py",
   "mimetype": "text/x-python",
   "name": "python",
   "nbconvert_exporter": "python",
   "pygments_lexer": "ipython3",
   "version": "3.10.13"
  },
  "papermill": {
   "default_parameters": {},
   "duration": 7.131429,
   "end_time": "2024-02-07T01:38:31.992837",
   "environment_variables": {},
   "exception": null,
   "input_path": "__notebook__.ipynb",
   "output_path": "__notebook__.ipynb",
   "parameters": {},
   "start_time": "2024-02-07T01:38:24.861408",
   "version": "2.5.0"
  }
 },
 "nbformat": 4,
 "nbformat_minor": 5
}
