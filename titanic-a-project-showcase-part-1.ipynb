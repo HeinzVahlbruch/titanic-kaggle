{
 "cells": [
  {
   "cell_type": "markdown",
   "id": "f6c20d85",
   "metadata": {
    "papermill": {
     "duration": 0.00463,
     "end_time": "2024-02-06T20:14:19.587283",
     "exception": false,
     "start_time": "2024-02-06T20:14:19.582653",
     "status": "completed"
    },
    "tags": []
   },
   "source": [
    "# <font size=6>Titanic - A Project Showcase - Part 1</font>\n",
    "## Initial Analysis and Baseline Model\n",
    "  \n",
    "---\n",
    "  \n",
    "<font size=4>Table of contents:</font>  \n",
    "*  [<font size=4>1. Introduction</font>](#int1)  \n",
    "*  [<font size=4>2. Import libraries</font>](#int2)  \n",
    "*  [<font size=4>4. Acknowledgements</font>](#int4)"
   ]
  },
  {
   "cell_type": "markdown",
   "id": "3f05f180",
   "metadata": {
    "papermill": {
     "duration": 0.003801,
     "end_time": "2024-02-06T20:14:19.595746",
     "exception": false,
     "start_time": "2024-02-06T20:14:19.591945",
     "status": "completed"
    },
    "tags": []
   },
   "source": [
    "### <a id=\"int1\">1. Introduction</a>"
   ]
  },
  {
   "cell_type": "markdown",
   "id": "0a4ce2c2",
   "metadata": {
    "papermill": {
     "duration": 0.003573,
     "end_time": "2024-02-06T20:14:19.603251",
     "exception": false,
     "start_time": "2024-02-06T20:14:19.599678",
     "status": "completed"
    },
    "tags": []
   },
   "source": [
    "### <a id=\"int2\">2. Import libraries</a>"
   ]
  },
  {
   "cell_type": "code",
   "execution_count": 1,
   "id": "a69f7f63",
   "metadata": {
    "_cell_guid": "b1076dfc-b9ad-4769-8c92-a6c4dae69d19",
    "_kg_hide-input": true,
    "_uuid": "8f2839f25d086af736a60e9eeb907d3b93b6e0e5",
    "execution": {
     "iopub.execute_input": "2024-02-06T20:14:19.613538Z",
     "iopub.status.busy": "2024-02-06T20:14:19.612674Z",
     "iopub.status.idle": "2024-02-06T20:14:22.089001Z",
     "shell.execute_reply": "2024-02-06T20:14:22.087872Z"
    },
    "papermill": {
     "duration": 2.485436,
     "end_time": "2024-02-06T20:14:22.092517",
     "exception": false,
     "start_time": "2024-02-06T20:14:19.607081",
     "status": "completed"
    },
    "tags": []
   },
   "outputs": [],
   "source": [
    "# in alphabetical order\n",
    "import matplotlib.pyplot as plt\n",
    "import numpy as np\n",
    "import os\n",
    "import pandas as pd\n",
    "from pathlib import Path\n",
    "import random\n",
    "import seaborn as sns\n",
    "import sys\n",
    "\n",
    "# importing utility functions for data analysis from script\n",
    "from utilities_analysis import missing_data, most_frequent_values, unique_values, plot_count_pairs, plot_distribution_pairs"
   ]
  },
  {
   "cell_type": "code",
   "execution_count": 2,
   "id": "f9a328ff",
   "metadata": {
    "execution": {
     "iopub.execute_input": "2024-02-06T20:14:22.104903Z",
     "iopub.status.busy": "2024-02-06T20:14:22.103134Z",
     "iopub.status.idle": "2024-02-06T20:14:22.141622Z",
     "shell.execute_reply": "2024-02-06T20:14:22.140087Z"
    },
    "papermill": {
     "duration": 0.047907,
     "end_time": "2024-02-06T20:14:22.144982",
     "exception": false,
     "start_time": "2024-02-06T20:14:22.097075",
     "status": "completed"
    },
    "tags": []
   },
   "outputs": [],
   "source": [
    "df_train = pd.read_csv(\"/kaggle/input/titanic/train.csv\")\n",
    "df_test = pd.read_csv(\"/kaggle/input/titanic/test.csv\")"
   ]
  },
  {
   "cell_type": "code",
   "execution_count": 3,
   "id": "cea7cb26",
   "metadata": {
    "execution": {
     "iopub.execute_input": "2024-02-06T20:14:22.155599Z",
     "iopub.status.busy": "2024-02-06T20:14:22.155111Z",
     "iopub.status.idle": "2024-02-06T20:14:22.161275Z",
     "shell.execute_reply": "2024-02-06T20:14:22.159926Z"
    },
    "papermill": {
     "duration": 0.014522,
     "end_time": "2024-02-06T20:14:22.163897",
     "exception": false,
     "start_time": "2024-02-06T20:14:22.149375",
     "status": "completed"
    },
    "tags": []
   },
   "outputs": [],
   "source": [
    "color_list = [\"#A5D7E8\", \"#576CBC\", \"#19376D\", \"#0b2447\"]"
   ]
  },
  {
   "cell_type": "code",
   "execution_count": 4,
   "id": "dcda04fe",
   "metadata": {
    "execution": {
     "iopub.execute_input": "2024-02-06T20:14:22.174594Z",
     "iopub.status.busy": "2024-02-06T20:14:22.174199Z",
     "iopub.status.idle": "2024-02-06T20:14:22.179884Z",
     "shell.execute_reply": "2024-02-06T20:14:22.178594Z"
    },
    "papermill": {
     "duration": 0.01457,
     "end_time": "2024-02-06T20:14:22.182755",
     "exception": false,
     "start_time": "2024-02-06T20:14:22.168185",
     "status": "completed"
    },
    "tags": []
   },
   "outputs": [],
   "source": [
    "#correlations = all_df[all_df.columns].corr(numeric_only=True)"
   ]
  },
  {
   "cell_type": "code",
   "execution_count": 5,
   "id": "e55cadc1",
   "metadata": {
    "execution": {
     "iopub.execute_input": "2024-02-06T20:14:22.192750Z",
     "iopub.status.busy": "2024-02-06T20:14:22.192333Z",
     "iopub.status.idle": "2024-02-06T20:14:22.197400Z",
     "shell.execute_reply": "2024-02-06T20:14:22.196063Z"
    },
    "papermill": {
     "duration": 0.012903,
     "end_time": "2024-02-06T20:14:22.199870",
     "exception": false,
     "start_time": "2024-02-06T20:14:22.186967",
     "status": "completed"
    },
    "tags": []
   },
   "outputs": [],
   "source": [
    "#print(correlations)"
   ]
  },
  {
   "cell_type": "code",
   "execution_count": 6,
   "id": "8597e567",
   "metadata": {
    "execution": {
     "iopub.execute_input": "2024-02-06T20:14:22.209265Z",
     "iopub.status.busy": "2024-02-06T20:14:22.208917Z",
     "iopub.status.idle": "2024-02-06T20:14:22.213983Z",
     "shell.execute_reply": "2024-02-06T20:14:22.212782Z"
    },
    "papermill": {
     "duration": 0.012773,
     "end_time": "2024-02-06T20:14:22.216559",
     "exception": false,
     "start_time": "2024-02-06T20:14:22.203786",
     "status": "completed"
    },
    "tags": []
   },
   "outputs": [],
   "source": [
    "#correlations_abs_sum = correlations[correlations.columns].abs().sum()\n",
    "#print(correlations_abs_sum)commit\n",
    "#print(correlations_abs_sum.nsmallest(5))"
   ]
  },
  {
   "cell_type": "markdown",
   "id": "949e7a6e",
   "metadata": {
    "papermill": {
     "duration": 0.003708,
     "end_time": "2024-02-06T20:14:22.224612",
     "exception": false,
     "start_time": "2024-02-06T20:14:22.220904",
     "status": "completed"
    },
    "tags": []
   },
   "source": [
    "## <a id=\"int4\">4. Acknowledgements</a>  \n",
    "  \n",
    "For this notebook I used code from other notebooks and was inspired by the work of other Kagglers.  \n",
    "  \n",
    "Thank you to:\n",
    "  \n",
    "* [<font size=4>[Gabriel Preda](https://www.kaggle.com/gpreda)</font>](#1)\n",
    "    * [Titanic - start of a journey around data world](https://www.kaggle.com/code/gpreda/titanic-start-of-a-journey-around-data-world)"
   ]
  }
 ],
 "metadata": {
  "kaggle": {
   "accelerator": "none",
   "dataSources": [
    {
     "databundleVersionId": 26502,
     "sourceId": 3136,
     "sourceType": "competition"
    },
    {
     "sourceId": 161946232,
     "sourceType": "kernelVersion"
    }
   ],
   "dockerImageVersionId": 30646,
   "isGpuEnabled": false,
   "isInternetEnabled": true,
   "language": "python",
   "sourceType": "notebook"
  },
  "kernelspec": {
   "display_name": "Python 3",
   "language": "python",
   "name": "python3"
  },
  "language_info": {
   "codemirror_mode": {
    "name": "ipython",
    "version": 3
   },
   "file_extension": ".py",
   "mimetype": "text/x-python",
   "name": "python",
   "nbconvert_exporter": "python",
   "pygments_lexer": "ipython3",
   "version": "3.10.13"
  },
  "papermill": {
   "default_parameters": {},
   "duration": 6.509054,
   "end_time": "2024-02-06T20:14:22.951988",
   "environment_variables": {},
   "exception": null,
   "input_path": "__notebook__.ipynb",
   "output_path": "__notebook__.ipynb",
   "parameters": {},
   "start_time": "2024-02-06T20:14:16.442934",
   "version": "2.5.0"
  }
 },
 "nbformat": 4,
 "nbformat_minor": 5
}
