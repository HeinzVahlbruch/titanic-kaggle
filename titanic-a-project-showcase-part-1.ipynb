{
 "cells": [
  {
   "cell_type": "markdown",
   "id": "f20338f4",
   "metadata": {
    "papermill": {
     "duration": 0.004481,
     "end_time": "2024-02-08T04:08:53.996338",
     "exception": false,
     "start_time": "2024-02-08T04:08:53.991857",
     "status": "completed"
    },
    "tags": []
   },
   "source": [
    "# <font size=6>Titanic - A Project Showcase - Part 1</font>\n",
    "## Initial Analysis and Baseline Model\n",
    "  \n",
    "---\n",
    "  \n",
    "<font size=4>Table of contents:</font>  \n",
    "*  [<font size=4>1. Introduction</font>](#int1)  \n",
    "*  [<font size=4>2. Initialization</font>](#int2)  \n",
    "  *  [<font size=4>2.1 Load Dependencies, Packages and Functions</font>](#int2.1)  \n",
    "  *  [<font size=4>2.2 Global Definitions</font>](#int2.2)  \n",
    "  *  [<font size=4>2.3 Load the Data</font>](#int2.3)  \n",
    "*  [<font size=4>3. Preliminary Data Inspection</font>](#int3)  \n",
    "  *  [<font size=4>3.1 Checking the Size and Shape</font>](#int3.1)  \n",
    "  *  [<font size=4>3.2 Checking the Columns and Data Types</font>](#int3.2)  \n",
    "*  [<font size=4>4. Acknowledgements</font>](#int4)"
   ]
  },
  {
   "cell_type": "markdown",
   "id": "d0f8154a",
   "metadata": {
    "papermill": {
     "duration": 0.003561,
     "end_time": "2024-02-08T04:08:54.004035",
     "exception": false,
     "start_time": "2024-02-08T04:08:54.000474",
     "status": "completed"
    },
    "tags": []
   },
   "source": [
    "### <a id=\"int1\">1. Introduction</a>"
   ]
  },
  {
   "cell_type": "markdown",
   "id": "54221d2f",
   "metadata": {
    "papermill": {
     "duration": 0.003522,
     "end_time": "2024-02-08T04:08:54.011351",
     "exception": false,
     "start_time": "2024-02-08T04:08:54.007829",
     "status": "completed"
    },
    "tags": []
   },
   "source": [
    "### <a id=\"int2\">2. Initialization</a>\n",
    "#### <a id=\"int2.1\">2.1 Load Dependencies, Packages and Functions</a>"
   ]
  },
  {
   "cell_type": "code",
   "execution_count": 1,
   "id": "6ce88fc9",
   "metadata": {
    "_cell_guid": "b1076dfc-b9ad-4769-8c92-a6c4dae69d19",
    "_kg_hide-input": true,
    "_uuid": "8f2839f25d086af736a60e9eeb907d3b93b6e0e5",
    "execution": {
     "iopub.execute_input": "2024-02-08T04:08:54.020998Z",
     "iopub.status.busy": "2024-02-08T04:08:54.020350Z",
     "iopub.status.idle": "2024-02-08T04:08:56.126008Z",
     "shell.execute_reply": "2024-02-08T04:08:56.124825Z"
    },
    "papermill": {
     "duration": 2.113369,
     "end_time": "2024-02-08T04:08:56.128528",
     "exception": false,
     "start_time": "2024-02-08T04:08:54.015159",
     "status": "completed"
    },
    "tags": []
   },
   "outputs": [],
   "source": [
    "# in alphabetical order\n",
    "import matplotlib.pyplot as plt\n",
    "import numpy as np\n",
    "import os\n",
    "import pandas as pd\n",
    "from pathlib import Path\n",
    "import random\n",
    "import seaborn as sns\n",
    "import sys\n",
    "\n",
    "# importing utility functions for data analysis from script\n",
    "from utilities_analysis import missing_data, most_frequent_values, unique_values, plot_count_pairs, plot_distribution_pairs"
   ]
  },
  {
   "cell_type": "markdown",
   "id": "319316dd",
   "metadata": {
    "papermill": {
     "duration": 0.003705,
     "end_time": "2024-02-08T04:08:56.136420",
     "exception": false,
     "start_time": "2024-02-08T04:08:56.132715",
     "status": "completed"
    },
    "tags": []
   },
   "source": [
    "#### <a id=\"int2.2\">2.2 Global Definitions</a>"
   ]
  },
  {
   "cell_type": "code",
   "execution_count": 2,
   "id": "a6af0945",
   "metadata": {
    "execution": {
     "iopub.execute_input": "2024-02-08T04:08:56.146402Z",
     "iopub.status.busy": "2024-02-08T04:08:56.145864Z",
     "iopub.status.idle": "2024-02-08T04:08:56.150178Z",
     "shell.execute_reply": "2024-02-08T04:08:56.149181Z"
    },
    "papermill": {
     "duration": 0.011935,
     "end_time": "2024-02-08T04:08:56.152400",
     "exception": false,
     "start_time": "2024-02-08T04:08:56.140465",
     "status": "completed"
    },
    "tags": []
   },
   "outputs": [],
   "source": [
    "# global definitions\n",
    "sns_colors = \"ocean_r\""
   ]
  },
  {
   "cell_type": "markdown",
   "id": "14349398",
   "metadata": {
    "papermill": {
     "duration": 0.003601,
     "end_time": "2024-02-08T04:08:56.159996",
     "exception": false,
     "start_time": "2024-02-08T04:08:56.156395",
     "status": "completed"
    },
    "tags": []
   },
   "source": [
    "#### <a id=\"int2.3\">2.3 Load the Data</a>"
   ]
  },
  {
   "cell_type": "code",
   "execution_count": 3,
   "id": "8953b9d8",
   "metadata": {
    "execution": {
     "iopub.execute_input": "2024-02-08T04:08:56.169683Z",
     "iopub.status.busy": "2024-02-08T04:08:56.169329Z",
     "iopub.status.idle": "2024-02-08T04:08:56.196063Z",
     "shell.execute_reply": "2024-02-08T04:08:56.194967Z"
    },
    "papermill": {
     "duration": 0.034729,
     "end_time": "2024-02-08T04:08:56.198620",
     "exception": false,
     "start_time": "2024-02-08T04:08:56.163891",
     "status": "completed"
    },
    "tags": []
   },
   "outputs": [],
   "source": [
    "df_train = pd.read_csv(\"/kaggle/input/titanic/train.csv\")\n",
    "df_test = pd.read_csv(\"/kaggle/input/titanic/test.csv\")"
   ]
  },
  {
   "cell_type": "markdown",
   "id": "af30437c",
   "metadata": {
    "papermill": {
     "duration": 0.00369,
     "end_time": "2024-02-08T04:08:56.206500",
     "exception": false,
     "start_time": "2024-02-08T04:08:56.202810",
     "status": "completed"
    },
    "tags": []
   },
   "source": [
    "### <a id=\"int3\">3. Preliminary Data Inspection</a>\n",
    "#### <a id=\"int3.1\">3.1 Checking the Size and Shape</a>"
   ]
  },
  {
   "cell_type": "code",
   "execution_count": 4,
   "id": "e9429e75",
   "metadata": {
    "execution": {
     "iopub.execute_input": "2024-02-08T04:08:56.215948Z",
     "iopub.status.busy": "2024-02-08T04:08:56.215595Z",
     "iopub.status.idle": "2024-02-08T04:08:56.222076Z",
     "shell.execute_reply": "2024-02-08T04:08:56.221194Z"
    },
    "papermill": {
     "duration": 0.014298,
     "end_time": "2024-02-08T04:08:56.224693",
     "exception": false,
     "start_time": "2024-02-08T04:08:56.210395",
     "status": "completed"
    },
    "tags": []
   },
   "outputs": [
    {
     "name": "stdout",
     "output_type": "stream",
     "text": [
      "Shape of df_train (rows, columns): (891, 12) with 10692 total data points\n",
      "Shape of df_test (rows, columns): (418, 11) with 4598 total data points\n"
     ]
    }
   ],
   "source": [
    "print(\"Shape of {} (rows, columns): {} with {} total data points\".format(\"df_train\", df_train.shape, df_train.size))\n",
    "print(\"Shape of {} (rows, columns): {} with {} total data points\".format(\"df_test\", df_test.shape, df_test.size))"
   ]
  },
  {
   "cell_type": "markdown",
   "id": "313acbc2",
   "metadata": {
    "papermill": {
     "duration": 0.003649,
     "end_time": "2024-02-08T04:08:56.232429",
     "exception": false,
     "start_time": "2024-02-08T04:08:56.228780",
     "status": "completed"
    },
    "tags": []
   },
   "source": [
    "The test data set is nearly half the size of the train data set, which gives us enough data to split the test data set later on for better results.  \n",
    "We can also see, that the train data set contains one more column, what let's us expect that the prediction value might already be removed from the test data set.  \n",
    "All in all, we are not dealing with too much data here."
   ]
  },
  {
   "cell_type": "markdown",
   "id": "9616730e",
   "metadata": {
    "papermill": {
     "duration": 0.003665,
     "end_time": "2024-02-08T04:08:56.239949",
     "exception": false,
     "start_time": "2024-02-08T04:08:56.236284",
     "status": "completed"
    },
    "tags": []
   },
   "source": [
    "#### <a id=\"int3.2\">3.2 Checking the Columns and Data Types</a>"
   ]
  },
  {
   "cell_type": "code",
   "execution_count": 5,
   "id": "0e83c8d6",
   "metadata": {
    "execution": {
     "iopub.execute_input": "2024-02-08T04:08:56.249505Z",
     "iopub.status.busy": "2024-02-08T04:08:56.249158Z",
     "iopub.status.idle": "2024-02-08T04:08:56.278695Z",
     "shell.execute_reply": "2024-02-08T04:08:56.277457Z"
    },
    "papermill": {
     "duration": 0.037001,
     "end_time": "2024-02-08T04:08:56.280938",
     "exception": false,
     "start_time": "2024-02-08T04:08:56.243937",
     "status": "completed"
    },
    "tags": []
   },
   "outputs": [
    {
     "name": "stdout",
     "output_type": "stream",
     "text": [
      "Info for df_train\n",
      "\n",
      "<class 'pandas.core.frame.DataFrame'>\n",
      "RangeIndex: 891 entries, 0 to 890\n",
      "Data columns (total 12 columns):\n",
      " #   Column       Non-Null Count  Dtype  \n",
      "---  ------       --------------  -----  \n",
      " 0   PassengerId  891 non-null    int64  \n",
      " 1   Survived     891 non-null    int64  \n",
      " 2   Pclass       891 non-null    int64  \n",
      " 3   Name         891 non-null    object \n",
      " 4   Sex          891 non-null    object \n",
      " 5   Age          714 non-null    float64\n",
      " 6   SibSp        891 non-null    int64  \n",
      " 7   Parch        891 non-null    int64  \n",
      " 8   Ticket       891 non-null    object \n",
      " 9   Fare         891 non-null    float64\n",
      " 10  Cabin        204 non-null    object \n",
      " 11  Embarked     889 non-null    object \n",
      "dtypes: float64(2), int64(5), object(5)\n",
      "memory usage: 83.7+ KB\n",
      "\n",
      "Info for df_test\n",
      "\n",
      "<class 'pandas.core.frame.DataFrame'>\n",
      "RangeIndex: 418 entries, 0 to 417\n",
      "Data columns (total 11 columns):\n",
      " #   Column       Non-Null Count  Dtype  \n",
      "---  ------       --------------  -----  \n",
      " 0   PassengerId  418 non-null    int64  \n",
      " 1   Pclass       418 non-null    int64  \n",
      " 2   Name         418 non-null    object \n",
      " 3   Sex          418 non-null    object \n",
      " 4   Age          332 non-null    float64\n",
      " 5   SibSp        418 non-null    int64  \n",
      " 6   Parch        418 non-null    int64  \n",
      " 7   Ticket       418 non-null    object \n",
      " 8   Fare         417 non-null    float64\n",
      " 9   Cabin        91 non-null     object \n",
      " 10  Embarked     418 non-null    object \n",
      "dtypes: float64(2), int64(4), object(5)\n",
      "memory usage: 36.0+ KB\n"
     ]
    }
   ],
   "source": [
    "print(\"Info for {}\\n\".format(\"df_train\"))\n",
    "df_train.info()\n",
    "print(\"\\nInfo for {}\\n\".format(\"df_test\"))\n",
    "df_test.info()"
   ]
  },
  {
   "cell_type": "code",
   "execution_count": 6,
   "id": "c4f6ba54",
   "metadata": {
    "execution": {
     "iopub.execute_input": "2024-02-08T04:08:56.290870Z",
     "iopub.status.busy": "2024-02-08T04:08:56.290524Z",
     "iopub.status.idle": "2024-02-08T04:08:56.294842Z",
     "shell.execute_reply": "2024-02-08T04:08:56.293932Z"
    },
    "papermill": {
     "duration": 0.011586,
     "end_time": "2024-02-08T04:08:56.296836",
     "exception": false,
     "start_time": "2024-02-08T04:08:56.285250",
     "status": "completed"
    },
    "tags": []
   },
   "outputs": [],
   "source": [
    "#correlations = all_df[all_df.columns].corr(numeric_only=True)"
   ]
  },
  {
   "cell_type": "code",
   "execution_count": 7,
   "id": "a4a63584",
   "metadata": {
    "execution": {
     "iopub.execute_input": "2024-02-08T04:08:56.306358Z",
     "iopub.status.busy": "2024-02-08T04:08:56.306004Z",
     "iopub.status.idle": "2024-02-08T04:08:56.310082Z",
     "shell.execute_reply": "2024-02-08T04:08:56.309167Z"
    },
    "papermill": {
     "duration": 0.011028,
     "end_time": "2024-02-08T04:08:56.312047",
     "exception": false,
     "start_time": "2024-02-08T04:08:56.301019",
     "status": "completed"
    },
    "tags": []
   },
   "outputs": [],
   "source": [
    "#print(correlations)"
   ]
  },
  {
   "cell_type": "code",
   "execution_count": 8,
   "id": "eeb80c59",
   "metadata": {
    "execution": {
     "iopub.execute_input": "2024-02-08T04:08:56.321650Z",
     "iopub.status.busy": "2024-02-08T04:08:56.320998Z",
     "iopub.status.idle": "2024-02-08T04:08:56.325324Z",
     "shell.execute_reply": "2024-02-08T04:08:56.324349Z"
    },
    "papermill": {
     "duration": 0.011194,
     "end_time": "2024-02-08T04:08:56.327350",
     "exception": false,
     "start_time": "2024-02-08T04:08:56.316156",
     "status": "completed"
    },
    "tags": []
   },
   "outputs": [],
   "source": [
    "#correlations_abs_sum = correlations[correlations.columns].abs().sum()\n",
    "#print(correlations_abs_sum)commit\n",
    "#print(correlations_abs_sum.nsmallest(5))"
   ]
  },
  {
   "cell_type": "markdown",
   "id": "71b4407b",
   "metadata": {
    "papermill": {
     "duration": 0.00408,
     "end_time": "2024-02-08T04:08:56.335517",
     "exception": false,
     "start_time": "2024-02-08T04:08:56.331437",
     "status": "completed"
    },
    "tags": []
   },
   "source": [
    "## <a id=\"int4\">4. Acknowledgements</a>  \n",
    "  \n",
    "For this notebook I used code from other notebooks and was inspired by the work of other Kagglers.  \n",
    "  \n",
    "Thank you to:\n",
    "  \n",
    "* [<font size=4>[Gabriel Preda](https://www.kaggle.com/gpreda)</font>](#1)\n",
    "    * [Titanic - start of a journey around data world](https://www.kaggle.com/code/gpreda/titanic-start-of-a-journey-around-data-world)"
   ]
  }
 ],
 "metadata": {
  "kaggle": {
   "accelerator": "none",
   "dataSources": [
    {
     "databundleVersionId": 26502,
     "sourceId": 3136,
     "sourceType": "competition"
    },
    {
     "sourceId": 161946232,
     "sourceType": "kernelVersion"
    }
   ],
   "dockerImageVersionId": 30646,
   "isGpuEnabled": false,
   "isInternetEnabled": true,
   "language": "python",
   "sourceType": "notebook"
  },
  "kernelspec": {
   "display_name": "Python 3",
   "language": "python",
   "name": "python3"
  },
  "language_info": {
   "codemirror_mode": {
    "name": "ipython",
    "version": 3
   },
   "file_extension": ".py",
   "mimetype": "text/x-python",
   "name": "python",
   "nbconvert_exporter": "python",
   "pygments_lexer": "ipython3",
   "version": "3.10.13"
  },
  "papermill": {
   "default_parameters": {},
   "duration": 5.819448,
   "end_time": "2024-02-08T04:08:56.859987",
   "environment_variables": {},
   "exception": null,
   "input_path": "__notebook__.ipynb",
   "output_path": "__notebook__.ipynb",
   "parameters": {},
   "start_time": "2024-02-08T04:08:51.040539",
   "version": "2.5.0"
  }
 },
 "nbformat": 4,
 "nbformat_minor": 5
}
